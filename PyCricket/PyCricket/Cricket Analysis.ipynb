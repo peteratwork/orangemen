{
 "cells": [
  {
   "cell_type": "markdown",
   "metadata": {},
   "source": [
    "# This notebook is a playground to learn data analysis. We will use cricket data that we scraped using the PyCricket.py code from espn cricinfo."
   ]
  },
  {
   "cell_type": "markdown",
   "metadata": {},
   "source": [
    "## Let's read the Test players data from a csv that we already downloaded. To read from the csv file we will use the read_csv module from the pandas library. Pandas is an open source library written in python for easier maniupulation of data. "
   ]
  },
  {
   "cell_type": "code",
   "execution_count": 2,
   "metadata": {
    "collapsed": true
   },
   "outputs": [],
   "source": [
    "import pandas as pd"
   ]
  },
  {
   "cell_type": "markdown",
   "metadata": {},
   "source": [
    "### One of the key features of pandas is that it provides DataFrame object.  DataFrame is a 2-dimensional labeled data structure with columns of potentially different types. You can think of it like a spreadsheet or SQL table, or a dict of Series objects."
   ]
  },
  {
   "cell_type": "code",
   "execution_count": 3,
   "metadata": {
    "collapsed": false
   },
   "outputs": [
    {
     "data": {
      "text/html": [
       "<div>\n",
       "<table border=\"1\" class=\"dataframe\">\n",
       "  <thead>\n",
       "    <tr style=\"text-align: right;\">\n",
       "      <th></th>\n",
       "      <th>Player</th>\n",
       "      <th>Country</th>\n",
       "      <th>StartYear</th>\n",
       "      <th>EndYear</th>\n",
       "      <th>Matches</th>\n",
       "      <th>Innings</th>\n",
       "      <th>NO</th>\n",
       "      <th>Runs</th>\n",
       "      <th>Highest</th>\n",
       "      <th>Average</th>\n",
       "      <th>100s</th>\n",
       "      <th>50s</th>\n",
       "      <th>0s</th>\n",
       "    </tr>\n",
       "  </thead>\n",
       "  <tbody>\n",
       "    <tr>\n",
       "      <th>0</th>\n",
       "      <td>SR Tendulkar</td>\n",
       "      <td>INDIA</td>\n",
       "      <td>1989</td>\n",
       "      <td>2013</td>\n",
       "      <td>200</td>\n",
       "      <td>329</td>\n",
       "      <td>33</td>\n",
       "      <td>15921</td>\n",
       "      <td>248*</td>\n",
       "      <td>53.78</td>\n",
       "      <td>51</td>\n",
       "      <td>68</td>\n",
       "      <td>14</td>\n",
       "    </tr>\n",
       "    <tr>\n",
       "      <th>1</th>\n",
       "      <td>RT Ponting</td>\n",
       "      <td>AUS</td>\n",
       "      <td>1995</td>\n",
       "      <td>2012</td>\n",
       "      <td>168</td>\n",
       "      <td>287</td>\n",
       "      <td>29</td>\n",
       "      <td>13378</td>\n",
       "      <td>257</td>\n",
       "      <td>51.85</td>\n",
       "      <td>41</td>\n",
       "      <td>62</td>\n",
       "      <td>17</td>\n",
       "    </tr>\n",
       "    <tr>\n",
       "      <th>2</th>\n",
       "      <td>JH Kallis</td>\n",
       "      <td>SA</td>\n",
       "      <td>1995</td>\n",
       "      <td>2013</td>\n",
       "      <td>166</td>\n",
       "      <td>280</td>\n",
       "      <td>40</td>\n",
       "      <td>13289</td>\n",
       "      <td>224</td>\n",
       "      <td>55.37</td>\n",
       "      <td>45</td>\n",
       "      <td>58</td>\n",
       "      <td>16</td>\n",
       "    </tr>\n",
       "    <tr>\n",
       "      <th>3</th>\n",
       "      <td>R Dravid</td>\n",
       "      <td>INDIA</td>\n",
       "      <td>1996</td>\n",
       "      <td>2012</td>\n",
       "      <td>164</td>\n",
       "      <td>286</td>\n",
       "      <td>32</td>\n",
       "      <td>13288</td>\n",
       "      <td>270</td>\n",
       "      <td>52.31</td>\n",
       "      <td>36</td>\n",
       "      <td>63</td>\n",
       "      <td>8</td>\n",
       "    </tr>\n",
       "    <tr>\n",
       "      <th>4</th>\n",
       "      <td>KC Sangakkara</td>\n",
       "      <td>SL</td>\n",
       "      <td>2000</td>\n",
       "      <td>2015</td>\n",
       "      <td>134</td>\n",
       "      <td>233</td>\n",
       "      <td>17</td>\n",
       "      <td>12400</td>\n",
       "      <td>319</td>\n",
       "      <td>57.40</td>\n",
       "      <td>38</td>\n",
       "      <td>52</td>\n",
       "      <td>11</td>\n",
       "    </tr>\n",
       "  </tbody>\n",
       "</table>\n",
       "</div>"
      ],
      "text/plain": [
       "          Player Country  StartYear  EndYear  Matches  Innings  NO   Runs  \\\n",
       "0   SR Tendulkar   INDIA       1989     2013      200      329  33  15921   \n",
       "1     RT Ponting     AUS       1995     2012      168      287  29  13378   \n",
       "2      JH Kallis      SA       1995     2013      166      280  40  13289   \n",
       "3       R Dravid   INDIA       1996     2012      164      286  32  13288   \n",
       "4  KC Sangakkara      SL       2000     2015      134      233  17  12400   \n",
       "\n",
       "  Highest  Average  100s  50s  0s  \n",
       "0    248*    53.78    51   68  14  \n",
       "1     257    51.85    41   62  17  \n",
       "2     224    55.37    45   58  16  \n",
       "3     270    52.31    36   63   8  \n",
       "4     319    57.40    38   52  11  "
      ]
     },
     "execution_count": 3,
     "metadata": {},
     "output_type": "execute_result"
    }
   ],
   "source": [
    "# The data set contains top 100 run total run scorers among the test batsman\n",
    "df = pd.read_csv(\"Data\\TestCricket_PlayerStats.csv\")\n",
    "df.head()"
   ]
  },
  {
   "cell_type": "code",
   "execution_count": 10,
   "metadata": {
    "collapsed": false
   },
   "outputs": [
    {
     "data": {
      "text/plain": [
       "Player        object\n",
       "Country       object\n",
       "StartYear      int64\n",
       "EndYear        int64\n",
       "Matches        int64\n",
       "Innings        int64\n",
       "NO             int64\n",
       "Runs           int64\n",
       "Highest       object\n",
       "Average      float64\n",
       "100s           int64\n",
       "50s            int64\n",
       "0s             int64\n",
       "dtype: object"
      ]
     },
     "execution_count": 10,
     "metadata": {},
     "output_type": "execute_result"
    }
   ],
   "source": [
    "# Learn the auto data types assigned for each column of the data frame\n",
    "df.dtypes"
   ]
  },
  {
   "cell_type": "code",
   "execution_count": 14,
   "metadata": {
    "collapsed": false
   },
   "outputs": [
    {
     "data": {
      "text/plain": [
       "(100, 13)"
      ]
     },
     "execution_count": 14,
     "metadata": {},
     "output_type": "execute_result"
    }
   ],
   "source": [
    "# Learn how many rows and columns does the data has (df has 100 rows and 13 columns)\n",
    "df.shape"
   ]
  },
  {
   "cell_type": "code",
   "execution_count": 17,
   "metadata": {
    "collapsed": false
   },
   "outputs": [
    {
     "data": {
      "text/plain": [
       "0    INDIA\n",
       "1      AUS\n",
       "2       SA\n",
       "3    INDIA\n",
       "4       SL\n",
       "Name: Country, dtype: object"
      ]
     },
     "execution_count": 17,
     "metadata": {},
     "output_type": "execute_result"
    }
   ],
   "source": [
    "# Accessing a column values (df.Country also works)\n",
    "df['Country'].head() "
   ]
  },
  {
   "cell_type": "code",
   "execution_count": 21,
   "metadata": {
    "collapsed": false
   },
   "outputs": [
    {
     "data": {
      "text/html": [
       "<div>\n",
       "<table border=\"1\" class=\"dataframe\">\n",
       "  <thead>\n",
       "    <tr style=\"text-align: right;\">\n",
       "      <th></th>\n",
       "      <th>Player</th>\n",
       "      <th>Country</th>\n",
       "      <th>StartYear</th>\n",
       "      <th>EndYear</th>\n",
       "      <th>Matches</th>\n",
       "      <th>Innings</th>\n",
       "      <th>NO</th>\n",
       "      <th>Runs</th>\n",
       "      <th>Highest</th>\n",
       "      <th>Average</th>\n",
       "      <th>100s</th>\n",
       "      <th>50s</th>\n",
       "      <th>0s</th>\n",
       "    </tr>\n",
       "  </thead>\n",
       "  <tbody>\n",
       "    <tr>\n",
       "      <th>2</th>\n",
       "      <td>JH Kallis</td>\n",
       "      <td>SA</td>\n",
       "      <td>1995</td>\n",
       "      <td>2013</td>\n",
       "      <td>166</td>\n",
       "      <td>280</td>\n",
       "      <td>40</td>\n",
       "      <td>13289</td>\n",
       "      <td>224</td>\n",
       "      <td>55.37</td>\n",
       "      <td>45</td>\n",
       "      <td>58</td>\n",
       "      <td>16</td>\n",
       "    </tr>\n",
       "  </tbody>\n",
       "</table>\n",
       "</div>"
      ],
      "text/plain": [
       "      Player Country  StartYear  EndYear  Matches  Innings  NO   Runs Highest  \\\n",
       "2  JH Kallis      SA       1995     2013      166      280  40  13289     224   \n",
       "\n",
       "   Average  100s  50s  0s  \n",
       "2    55.37    45   58  16  "
      ]
     },
     "execution_count": 21,
     "metadata": {},
     "output_type": "execute_result"
    }
   ],
   "source": [
    "# Accessing a row by row id \n",
    "# Note: Python doesn't slice by including the end index\n",
    "df[2:3]"
   ]
  },
  {
   "cell_type": "code",
   "execution_count": 23,
   "metadata": {
    "collapsed": false
   },
   "outputs": [
    {
     "data": {
      "text/html": [
       "<div>\n",
       "<table border=\"1\" class=\"dataframe\">\n",
       "  <thead>\n",
       "    <tr style=\"text-align: right;\">\n",
       "      <th></th>\n",
       "      <th>Player</th>\n",
       "      <th>Country</th>\n",
       "      <th>StartYear</th>\n",
       "      <th>EndYear</th>\n",
       "      <th>Matches</th>\n",
       "      <th>Innings</th>\n",
       "      <th>NO</th>\n",
       "      <th>Runs</th>\n",
       "      <th>Highest</th>\n",
       "      <th>Average</th>\n",
       "      <th>100s</th>\n",
       "      <th>50s</th>\n",
       "      <th>0s</th>\n",
       "    </tr>\n",
       "  </thead>\n",
       "  <tbody>\n",
       "    <tr>\n",
       "      <th>0</th>\n",
       "      <td>SR Tendulkar</td>\n",
       "      <td>INDIA</td>\n",
       "      <td>1989</td>\n",
       "      <td>2013</td>\n",
       "      <td>200</td>\n",
       "      <td>329</td>\n",
       "      <td>33</td>\n",
       "      <td>15921</td>\n",
       "      <td>248*</td>\n",
       "      <td>53.78</td>\n",
       "      <td>51</td>\n",
       "      <td>68</td>\n",
       "      <td>14</td>\n",
       "    </tr>\n",
       "    <tr>\n",
       "      <th>1</th>\n",
       "      <td>RT Ponting</td>\n",
       "      <td>AUS</td>\n",
       "      <td>1995</td>\n",
       "      <td>2012</td>\n",
       "      <td>168</td>\n",
       "      <td>287</td>\n",
       "      <td>29</td>\n",
       "      <td>13378</td>\n",
       "      <td>257</td>\n",
       "      <td>51.85</td>\n",
       "      <td>41</td>\n",
       "      <td>62</td>\n",
       "      <td>17</td>\n",
       "    </tr>\n",
       "    <tr>\n",
       "      <th>2</th>\n",
       "      <td>JH Kallis</td>\n",
       "      <td>SA</td>\n",
       "      <td>1995</td>\n",
       "      <td>2013</td>\n",
       "      <td>166</td>\n",
       "      <td>280</td>\n",
       "      <td>40</td>\n",
       "      <td>13289</td>\n",
       "      <td>224</td>\n",
       "      <td>55.37</td>\n",
       "      <td>45</td>\n",
       "      <td>58</td>\n",
       "      <td>16</td>\n",
       "    </tr>\n",
       "  </tbody>\n",
       "</table>\n",
       "</div>"
      ],
      "text/plain": [
       "         Player Country  StartYear  EndYear  Matches  Innings  NO   Runs  \\\n",
       "0  SR Tendulkar   INDIA       1989     2013      200      329  33  15921   \n",
       "1    RT Ponting     AUS       1995     2012      168      287  29  13378   \n",
       "2     JH Kallis      SA       1995     2013      166      280  40  13289   \n",
       "\n",
       "  Highest  Average  100s  50s  0s  \n",
       "0    248*    53.78    51   68  14  \n",
       "1     257    51.85    41   62  17  \n",
       "2     224    55.37    45   58  16  "
      ]
     },
     "execution_count": 23,
     "metadata": {},
     "output_type": "execute_result"
    }
   ],
   "source": [
    "# All rows upto the end index\n",
    "df[:3]"
   ]
  },
  {
   "cell_type": "code",
   "execution_count": 22,
   "metadata": {
    "collapsed": false
   },
   "outputs": [
    {
     "data": {
      "text/html": [
       "<div>\n",
       "<table border=\"1\" class=\"dataframe\">\n",
       "  <thead>\n",
       "    <tr style=\"text-align: right;\">\n",
       "      <th></th>\n",
       "      <th>Player</th>\n",
       "      <th>Country</th>\n",
       "      <th>StartYear</th>\n",
       "      <th>EndYear</th>\n",
       "      <th>Matches</th>\n",
       "      <th>Innings</th>\n",
       "      <th>NO</th>\n",
       "      <th>Runs</th>\n",
       "      <th>Highest</th>\n",
       "      <th>Average</th>\n",
       "      <th>100s</th>\n",
       "      <th>50s</th>\n",
       "      <th>0s</th>\n",
       "    </tr>\n",
       "  </thead>\n",
       "  <tbody>\n",
       "    <tr>\n",
       "      <th>2</th>\n",
       "      <td>JH Kallis</td>\n",
       "      <td>SA</td>\n",
       "      <td>1995</td>\n",
       "      <td>2013</td>\n",
       "      <td>166</td>\n",
       "      <td>280</td>\n",
       "      <td>40</td>\n",
       "      <td>13289</td>\n",
       "      <td>224</td>\n",
       "      <td>55.37</td>\n",
       "      <td>45</td>\n",
       "      <td>58</td>\n",
       "      <td>16</td>\n",
       "    </tr>\n",
       "  </tbody>\n",
       "</table>\n",
       "</div>"
      ],
      "text/plain": [
       "      Player Country  StartYear  EndYear  Matches  Innings  NO   Runs Highest  \\\n",
       "2  JH Kallis      SA       1995     2013      166      280  40  13289     224   \n",
       "\n",
       "   Average  100s  50s  0s  \n",
       "2    55.37    45   58  16  "
      ]
     },
     "execution_count": 22,
     "metadata": {},
     "output_type": "execute_result"
    }
   ],
   "source": [
    "# Reading row by a specific value of a column\n",
    "df[df[\"Player\"] == \"JH Kallis\"]"
   ]
  },
  {
   "cell_type": "code",
   "execution_count": 26,
   "metadata": {
    "collapsed": false
   },
   "outputs": [
    {
     "data": {
      "text/html": [
       "<div>\n",
       "<table border=\"1\" class=\"dataframe\">\n",
       "  <thead>\n",
       "    <tr style=\"text-align: right;\">\n",
       "      <th></th>\n",
       "      <th>StartYear</th>\n",
       "      <th>EndYear</th>\n",
       "      <th>Matches</th>\n",
       "      <th>Innings</th>\n",
       "      <th>NO</th>\n",
       "      <th>Runs</th>\n",
       "      <th>Average</th>\n",
       "      <th>100s</th>\n",
       "      <th>50s</th>\n",
       "      <th>0s</th>\n",
       "    </tr>\n",
       "  </thead>\n",
       "  <tbody>\n",
       "    <tr>\n",
       "      <th>count</th>\n",
       "      <td>100.000000</td>\n",
       "      <td>100.000000</td>\n",
       "      <td>100.000000</td>\n",
       "      <td>100.000000</td>\n",
       "      <td>100.00000</td>\n",
       "      <td>100.000000</td>\n",
       "      <td>100.000000</td>\n",
       "      <td>100.000000</td>\n",
       "      <td>100.000000</td>\n",
       "      <td>100.00000</td>\n",
       "    </tr>\n",
       "    <tr>\n",
       "      <th>mean</th>\n",
       "      <td>1984.320000</td>\n",
       "      <td>1998.390000</td>\n",
       "      <td>101.210000</td>\n",
       "      <td>171.970000</td>\n",
       "      <td>15.68000</td>\n",
       "      <td>7246.410000</td>\n",
       "      <td>46.613500</td>\n",
       "      <td>19.500000</td>\n",
       "      <td>34.160000</td>\n",
       "      <td>10.97000</td>\n",
       "    </tr>\n",
       "    <tr>\n",
       "      <th>std</th>\n",
       "      <td>20.443507</td>\n",
       "      <td>18.195845</td>\n",
       "      <td>28.883358</td>\n",
       "      <td>47.444695</td>\n",
       "      <td>8.62915</td>\n",
       "      <td>2313.981911</td>\n",
       "      <td>8.141652</td>\n",
       "      <td>8.410551</td>\n",
       "      <td>11.620011</td>\n",
       "      <td>4.16201</td>\n",
       "    </tr>\n",
       "    <tr>\n",
       "      <th>min</th>\n",
       "      <td>1908.000000</td>\n",
       "      <td>1930.000000</td>\n",
       "      <td>52.000000</td>\n",
       "      <td>80.000000</td>\n",
       "      <td>4.00000</td>\n",
       "      <td>4594.000000</td>\n",
       "      <td>30.300000</td>\n",
       "      <td>4.000000</td>\n",
       "      <td>13.000000</td>\n",
       "      <td>3.00000</td>\n",
       "    </tr>\n",
       "    <tr>\n",
       "      <th>25%</th>\n",
       "      <td>1974.750000</td>\n",
       "      <td>1991.750000</td>\n",
       "      <td>79.000000</td>\n",
       "      <td>137.000000</td>\n",
       "      <td>10.00000</td>\n",
       "      <td>5457.500000</td>\n",
       "      <td>42.177500</td>\n",
       "      <td>14.000000</td>\n",
       "      <td>27.000000</td>\n",
       "      <td>8.00000</td>\n",
       "    </tr>\n",
       "    <tr>\n",
       "      <th>50%</th>\n",
       "      <td>1990.000000</td>\n",
       "      <td>2004.000000</td>\n",
       "      <td>100.500000</td>\n",
       "      <td>171.000000</td>\n",
       "      <td>14.00000</td>\n",
       "      <td>6919.500000</td>\n",
       "      <td>45.905000</td>\n",
       "      <td>18.000000</td>\n",
       "      <td>31.500000</td>\n",
       "      <td>11.00000</td>\n",
       "    </tr>\n",
       "    <tr>\n",
       "      <th>75%</th>\n",
       "      <td>1999.250000</td>\n",
       "      <td>2013.000000</td>\n",
       "      <td>116.000000</td>\n",
       "      <td>194.250000</td>\n",
       "      <td>19.00000</td>\n",
       "      <td>8130.750000</td>\n",
       "      <td>50.602500</td>\n",
       "      <td>23.000000</td>\n",
       "      <td>39.000000</td>\n",
       "      <td>14.00000</td>\n",
       "    </tr>\n",
       "    <tr>\n",
       "      <th>max</th>\n",
       "      <td>2012.000000</td>\n",
       "      <td>2017.000000</td>\n",
       "      <td>200.000000</td>\n",
       "      <td>329.000000</td>\n",
       "      <td>49.00000</td>\n",
       "      <td>15921.000000</td>\n",
       "      <td>99.940000</td>\n",
       "      <td>51.000000</td>\n",
       "      <td>68.000000</td>\n",
       "      <td>22.00000</td>\n",
       "    </tr>\n",
       "  </tbody>\n",
       "</table>\n",
       "</div>"
      ],
      "text/plain": [
       "         StartYear      EndYear     Matches     Innings         NO  \\\n",
       "count   100.000000   100.000000  100.000000  100.000000  100.00000   \n",
       "mean   1984.320000  1998.390000  101.210000  171.970000   15.68000   \n",
       "std      20.443507    18.195845   28.883358   47.444695    8.62915   \n",
       "min    1908.000000  1930.000000   52.000000   80.000000    4.00000   \n",
       "25%    1974.750000  1991.750000   79.000000  137.000000   10.00000   \n",
       "50%    1990.000000  2004.000000  100.500000  171.000000   14.00000   \n",
       "75%    1999.250000  2013.000000  116.000000  194.250000   19.00000   \n",
       "max    2012.000000  2017.000000  200.000000  329.000000   49.00000   \n",
       "\n",
       "               Runs     Average        100s         50s         0s  \n",
       "count    100.000000  100.000000  100.000000  100.000000  100.00000  \n",
       "mean    7246.410000   46.613500   19.500000   34.160000   10.97000  \n",
       "std     2313.981911    8.141652    8.410551   11.620011    4.16201  \n",
       "min     4594.000000   30.300000    4.000000   13.000000    3.00000  \n",
       "25%     5457.500000   42.177500   14.000000   27.000000    8.00000  \n",
       "50%     6919.500000   45.905000   18.000000   31.500000   11.00000  \n",
       "75%     8130.750000   50.602500   23.000000   39.000000   14.00000  \n",
       "max    15921.000000   99.940000   51.000000   68.000000   22.00000  "
      ]
     },
     "execution_count": 26,
     "metadata": {},
     "output_type": "execute_result"
    }
   ],
   "source": [
    "# Basic statistical computation\n",
    "df.describe()"
   ]
  },
  {
   "cell_type": "markdown",
   "metadata": {},
   "source": [
    "#### We can see above that on average the top 100 run scores of test match batsman played 172 innings with 46.6 average score"
   ]
  },
  {
   "cell_type": "code",
   "execution_count": 27,
   "metadata": {
    "collapsed": false
   },
   "outputs": [
    {
     "data": {
      "text/plain": [
       "Country\n",
       "AUS      22\n",
       "ENG      24\n",
       "INDIA    11\n",
       "NZ        7\n",
       "PAK       8\n",
       "SA        7\n",
       "SL        8\n",
       "WI       12\n",
       "ZIM       1\n",
       "dtype: int64"
      ]
     },
     "execution_count": 27,
     "metadata": {},
     "output_type": "execute_result"
    }
   ],
   "source": [
    "# How many players from each country do top 100 players represent?\n",
    "top100_group = df.groupby('Country')\n",
    "top100_group.size()"
   ]
  },
  {
   "cell_type": "code",
   "execution_count": 38,
   "metadata": {
    "collapsed": false
   },
   "outputs": [
    {
     "data": {
      "text/html": [
       "<div>\n",
       "<table border=\"1\" class=\"dataframe\">\n",
       "  <thead>\n",
       "    <tr style=\"text-align: right;\">\n",
       "      <th></th>\n",
       "      <th>Matches</th>\n",
       "      <th>Innings</th>\n",
       "      <th>NO</th>\n",
       "      <th>Runs</th>\n",
       "      <th>100s</th>\n",
       "      <th>50s</th>\n",
       "      <th>0s</th>\n",
       "    </tr>\n",
       "    <tr>\n",
       "      <th>Country</th>\n",
       "      <th></th>\n",
       "      <th></th>\n",
       "      <th></th>\n",
       "      <th></th>\n",
       "      <th></th>\n",
       "      <th></th>\n",
       "      <th></th>\n",
       "    </tr>\n",
       "  </thead>\n",
       "  <tbody>\n",
       "    <tr>\n",
       "      <th>ENG</th>\n",
       "      <td>2296</td>\n",
       "      <td>3994</td>\n",
       "      <td>323</td>\n",
       "      <td>163827</td>\n",
       "      <td>426</td>\n",
       "      <td>795</td>\n",
       "      <td>235</td>\n",
       "    </tr>\n",
       "    <tr>\n",
       "      <th>AUS</th>\n",
       "      <td>2079</td>\n",
       "      <td>3560</td>\n",
       "      <td>370</td>\n",
       "      <td>156616</td>\n",
       "      <td>461</td>\n",
       "      <td>711</td>\n",
       "      <td>233</td>\n",
       "    </tr>\n",
       "    <tr>\n",
       "      <th>WI</th>\n",
       "      <td>1300</td>\n",
       "      <td>2208</td>\n",
       "      <td>195</td>\n",
       "      <td>93946</td>\n",
       "      <td>244</td>\n",
       "      <td>451</td>\n",
       "      <td>134</td>\n",
       "    </tr>\n",
       "    <tr>\n",
       "      <th>INDIA</th>\n",
       "      <td>1367</td>\n",
       "      <td>2237</td>\n",
       "      <td>210</td>\n",
       "      <td>93197</td>\n",
       "      <td>244</td>\n",
       "      <td>450</td>\n",
       "      <td>133</td>\n",
       "    </tr>\n",
       "    <tr>\n",
       "      <th>SL</th>\n",
       "      <td>837</td>\n",
       "      <td>1420</td>\n",
       "      <td>115</td>\n",
       "      <td>59109</td>\n",
       "      <td>156</td>\n",
       "      <td>263</td>\n",
       "      <td>107</td>\n",
       "    </tr>\n",
       "    <tr>\n",
       "      <th>SA</th>\n",
       "      <td>828</td>\n",
       "      <td>1368</td>\n",
       "      <td>128</td>\n",
       "      <td>57423</td>\n",
       "      <td>159</td>\n",
       "      <td>261</td>\n",
       "      <td>85</td>\n",
       "    </tr>\n",
       "    <tr>\n",
       "      <th>PAK</th>\n",
       "      <td>759</td>\n",
       "      <td>1264</td>\n",
       "      <td>133</td>\n",
       "      <td>55657</td>\n",
       "      <td>155</td>\n",
       "      <td>264</td>\n",
       "      <td>90</td>\n",
       "    </tr>\n",
       "    <tr>\n",
       "      <th>NZ</th>\n",
       "      <td>592</td>\n",
       "      <td>1034</td>\n",
       "      <td>75</td>\n",
       "      <td>40072</td>\n",
       "      <td>93</td>\n",
       "      <td>194</td>\n",
       "      <td>75</td>\n",
       "    </tr>\n",
       "    <tr>\n",
       "      <th>ZIM</th>\n",
       "      <td>63</td>\n",
       "      <td>112</td>\n",
       "      <td>19</td>\n",
       "      <td>4794</td>\n",
       "      <td>12</td>\n",
       "      <td>27</td>\n",
       "      <td>5</td>\n",
       "    </tr>\n",
       "  </tbody>\n",
       "</table>\n",
       "</div>"
      ],
      "text/plain": [
       "         Matches  Innings   NO    Runs  100s  50s   0s\n",
       "Country                                               \n",
       "ENG         2296     3994  323  163827   426  795  235\n",
       "AUS         2079     3560  370  156616   461  711  233\n",
       "WI          1300     2208  195   93946   244  451  134\n",
       "INDIA       1367     2237  210   93197   244  450  133\n",
       "SL           837     1420  115   59109   156  263  107\n",
       "SA           828     1368  128   57423   159  261   85\n",
       "PAK          759     1264  133   55657   155  264   90\n",
       "NZ           592     1034   75   40072    93  194   75\n",
       "ZIM           63      112   19    4794    12   27    5"
      ]
     },
     "execution_count": 38,
     "metadata": {},
     "output_type": "execute_result"
    }
   ],
   "source": [
    "top100_sum = top100_group[['Matches', 'Innings', 'NO', 'Runs', '100s', '50s', '0s']].sum().sort_values(by='Runs', ascending=False)\n",
    "top100_sum"
   ]
  },
  {
   "cell_type": "code",
   "execution_count": 39,
   "metadata": {
    "collapsed": false
   },
   "outputs": [
    {
     "data": {
      "text/plain": [
       "<matplotlib.axes._subplots.AxesSubplot at 0x15a1b4e2f60>"
      ]
     },
     "execution_count": 39,
     "metadata": {},
     "output_type": "execute_result"
    }
   ],
   "source": [
    "top100_group.size().plot(kind='bar')"
   ]
  },
  {
   "cell_type": "markdown",
   "metadata": {},
   "source": [
    "#### Now we will plot the data to get simple visuals"
   ]
  },
  {
   "cell_type": "code",
   "execution_count": 42,
   "metadata": {
    "collapsed": false
   },
   "outputs": [],
   "source": [
    "# First import the matplotlib library\n",
    "import matplotlib.pyplot as plt\n",
    "\n",
    "# Allow python to display charts\n",
    "%matplotlib inline"
   ]
  },
  {
   "cell_type": "code",
   "execution_count": 43,
   "metadata": {
    "collapsed": false
   },
   "outputs": [
    {
     "data": {
      "text/plain": [
       "<matplotlib.text.Text at 0x15a1b962c18>"
      ]
     },
     "execution_count": 43,
     "metadata": {},
     "output_type": "execute_result"
    },
    {
     "data": {
      "image/png": "[encoded data removed]",
      "text/plain": [
       "<matplotlib.figure.Figure at 0x15a1ac7de10>"
      ]
     },
     "metadata": {},
     "output_type": "display_data"
    }
   ],
   "source": [
    "# PLot the total runs by country among the top 100 batsman\n",
    "my_plot = top100_sum['Runs'].plot(kind='bar',legend=None,title=\"Total Runs by Country\")\n",
    "my_plot.set_xlabel(\"Country\")\n",
    "my_plot.set_ylabel(\"Runs\")"
   ]
  },
  {
   "cell_type": "markdown",
   "metadata": {},
   "source": [
    "### Exercise: Plot a bar chart showing number of players per country in decreasing order"
   ]
  },
  {
   "cell_type": "code",
   "execution_count": null,
   "metadata": {
    "collapsed": true
   },
   "outputs": [],
   "source": []
  },
  {
   "cell_type": "code",
   "execution_count": null,
   "metadata": {
    "collapsed": true
   },
   "outputs": [],
   "source": []
  }
 ],
 "metadata": {
  "kernelspec": {
   "display_name": "Python 3",
   "language": "python",
   "name": "python3"
  },
  "language_info": {
   "codemirror_mode": {
    "name": "ipython",
    "version": 3
   },
   "file_extension": ".py",
   "mimetype": "text/x-python",
   "name": "python",
   "nbconvert_exporter": "python",
   "pygments_lexer": "ipython3",
   "version": "3.6.0"
  }
 },
 "nbformat": 4,
 "nbformat_minor": 2
}
